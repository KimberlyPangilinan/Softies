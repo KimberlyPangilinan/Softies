{
 "cells": [
  {
   "cell_type": "markdown",
   "metadata": {},
   "source": [
    "# Hands-on Activity 5.1: Design and Tradeoffs Analysis"
   ]
  },
  {
   "cell_type": "code",
   "execution_count": 1,
   "metadata": {},
   "outputs": [],
   "source": [
    "import pandas as pd\n",
    "import seaborn as sns\n",
    "import matplotlib.pyplot as plt\n",
    "import numpy as np\n",
    "import plotly.express as px\n",
    "import plotly.graph_objects as go\n",
    "from itertools import permutations\n",
    "import warnings\n",
    "warnings.filterwarnings(\"ignore\")"
   ]
  },
  {
   "cell_type": "code",
   "execution_count": 2,
   "metadata": {},
   "outputs": [],
   "source": [
    "## DEFINING HELPER FUNCTIONS FOR NORMALIZATION\n",
    "def minNormalize(values):\n",
    "    values = list(values)\n",
    "    goal = values.pop(-1)\n",
    "    normal = [9*((max(values)-x)/(max(values)-min(values)))+1 for x in values]\n",
    "    normal.append(goal)\n",
    "    return normal\n",
    "\n",
    "def maxNormalize(values):\n",
    "    values = list(values)\n",
    "    goal = values.pop(-1)\n",
    "    normal = [9*((x-min(values))/(max(values)-min(values)))+1 for x in values]\n",
    "    normal.append(goal)\n",
    "    return normal\n",
    "\n",
    "def normalize(values):\n",
    "    if values.iloc[-1] == 'MAX':\n",
    "        normal = maxNormalize(values)\n",
    "    else:\n",
    "        normal = minNormalize(values)\n",
    "    return normal\n",
    "\n",
    "## DEFINING HELPER FUNCTION FOR GETTING WEIGHTED SUM\n",
    "def getWeightedSum(values):\n",
    "    values = list(values)\n",
    "    weight = values.pop(0)\n",
    "    values = [value*weight for value in values]\n",
    "    values.insert(0, weight)\n",
    "    return values\n",
    "\n",
    "def getTotal(values):\n",
    "    return sum(values)"
   ]
  },
  {
   "cell_type": "markdown",
   "metadata": {},
   "source": [
    "## SINGLE EXECUTION"
   ]
  },
  {
   "cell_type": "code",
   "execution_count": 3,
   "metadata": {},
   "outputs": [],
   "source": [
    "criteria = ['Economic (Cost)','Environmental (Size of the Model)','Safety (People)','Risk (Minutes)','Sustainability (Minutes)']\n",
    "levelOfImportance = [10,30,15,20,25]\n",
    "weight = [level/100 for level in levelOfImportance]\n",
    "yoloV5 = [37600,14758494,20,30,350]\n",
    "ssd = [40600,12115968,22,7.5,601]\n",
    "fasterRCNN = [32600,10818660,17,10,833]\n",
    "goal = ['MIN','MIN','MAX','MIN','MAX']\n"
   ]
  },
  {
   "cell_type": "code",
   "execution_count": 4,
   "metadata": {},
   "outputs": [],
   "source": [
    "data = pd.DataFrame({'levelOfImportance':levelOfImportance,\n",
    "                     'weight':weight,\n",
    "                     'yoloV5':yoloV5,\n",
    "                     'ssd':ssd,\n",
    "                     'fasterRCNN':fasterRCNN\n",
    "                     },\n",
    "                     index = criteria)\n",
    "data.index.name='criteria'\n",
    "data = data.map(lambda x: float(x))\n",
    "data['goal'] = goal"
   ]
  },
  {
   "cell_type": "code",
   "execution_count": 5,
   "metadata": {},
   "outputs": [],
   "source": [
    "## NORMALIZING DATA\n",
    "for i in range(data.shape[0]):\n",
    "    data.iloc[i,2:] = normalize(data.iloc[i,2:])"
   ]
  },
  {
   "cell_type": "code",
   "execution_count": 6,
   "metadata": {},
   "outputs": [],
   "source": [
    "## GETTING WEIGHTED SUM\n",
    "for i in range(data.shape[0]):\n",
    "    data.iloc[i,1:-1] = getWeightedSum(data.iloc[i,1:-1])\n"
   ]
  },
  {
   "cell_type": "code",
   "execution_count": 7,
   "metadata": {},
   "outputs": [],
   "source": [
    "## GETTING totals\n",
    "total=[]\n",
    "for i in range(5):\n",
    "    total.append(getTotal(data.iloc[:,i]))\n",
    "total.append(None)\n",
    "data.loc[len(data)] = total\n",
    "index = [idx for idx in data.index][:-1]\n",
    "index.append('total')\n",
    "data = data.set_index([index])"
   ]
  },
  {
   "cell_type": "code",
   "execution_count": 8,
   "metadata": {},
   "outputs": [
    {
     "data": {
      "text/html": [
       "<div>\n",
       "<style scoped>\n",
       "    .dataframe tbody tr th:only-of-type {\n",
       "        vertical-align: middle;\n",
       "    }\n",
       "\n",
       "    .dataframe tbody tr th {\n",
       "        vertical-align: top;\n",
       "    }\n",
       "\n",
       "    .dataframe thead th {\n",
       "        text-align: right;\n",
       "    }\n",
       "</style>\n",
       "<table border=\"1\" class=\"dataframe\">\n",
       "  <thead>\n",
       "    <tr style=\"text-align: right;\">\n",
       "      <th></th>\n",
       "      <th>levelOfImportance</th>\n",
       "      <th>weight</th>\n",
       "      <th>yoloV5</th>\n",
       "      <th>ssd</th>\n",
       "      <th>fasterRCNN</th>\n",
       "      <th>goal</th>\n",
       "    </tr>\n",
       "  </thead>\n",
       "  <tbody>\n",
       "    <tr>\n",
       "      <th>Economic (Cost)</th>\n",
       "      <td>10.0</td>\n",
       "      <td>0.10</td>\n",
       "      <td>0.4375</td>\n",
       "      <td>0.100000</td>\n",
       "      <td>1.00</td>\n",
       "      <td>MIN</td>\n",
       "    </tr>\n",
       "    <tr>\n",
       "      <th>Environmental (Size of the Model)</th>\n",
       "      <td>30.0</td>\n",
       "      <td>0.30</td>\n",
       "      <td>0.3000</td>\n",
       "      <td>2.110944</td>\n",
       "      <td>3.00</td>\n",
       "      <td>MIN</td>\n",
       "    </tr>\n",
       "    <tr>\n",
       "      <th>Safety (People)</th>\n",
       "      <td>15.0</td>\n",
       "      <td>0.15</td>\n",
       "      <td>0.9600</td>\n",
       "      <td>1.500000</td>\n",
       "      <td>0.15</td>\n",
       "      <td>MAX</td>\n",
       "    </tr>\n",
       "    <tr>\n",
       "      <th>Risk (Minutes)</th>\n",
       "      <td>20.0</td>\n",
       "      <td>0.20</td>\n",
       "      <td>0.2000</td>\n",
       "      <td>2.000000</td>\n",
       "      <td>1.80</td>\n",
       "      <td>MIN</td>\n",
       "    </tr>\n",
       "    <tr>\n",
       "      <th>Sustainability (Minutes)</th>\n",
       "      <td>25.0</td>\n",
       "      <td>0.25</td>\n",
       "      <td>0.2500</td>\n",
       "      <td>1.419255</td>\n",
       "      <td>2.50</td>\n",
       "      <td>MAX</td>\n",
       "    </tr>\n",
       "    <tr>\n",
       "      <th>total</th>\n",
       "      <td>100.0</td>\n",
       "      <td>1.00</td>\n",
       "      <td>2.1475</td>\n",
       "      <td>7.130199</td>\n",
       "      <td>8.45</td>\n",
       "      <td>NaN</td>\n",
       "    </tr>\n",
       "  </tbody>\n",
       "</table>\n",
       "</div>"
      ],
      "text/plain": [
       "                                   levelOfImportance  weight  yoloV5  \\\n",
       "Economic (Cost)                                 10.0    0.10  0.4375   \n",
       "Environmental (Size of the Model)               30.0    0.30  0.3000   \n",
       "Safety (People)                                 15.0    0.15  0.9600   \n",
       "Risk (Minutes)                                  20.0    0.20  0.2000   \n",
       "Sustainability (Minutes)                        25.0    0.25  0.2500   \n",
       "total                                          100.0    1.00  2.1475   \n",
       "\n",
       "                                        ssd  fasterRCNN goal  \n",
       "Economic (Cost)                    0.100000        1.00  MIN  \n",
       "Environmental (Size of the Model)  2.110944        3.00  MIN  \n",
       "Safety (People)                    1.500000        0.15  MAX  \n",
       "Risk (Minutes)                     2.000000        1.80  MIN  \n",
       "Sustainability (Minutes)           1.419255        2.50  MAX  \n",
       "total                              7.130199        8.45  NaN  "
      ]
     },
     "execution_count": 8,
     "metadata": {},
     "output_type": "execute_result"
    }
   ],
   "source": [
    "data"
   ]
  },
  {
   "cell_type": "code",
   "execution_count": 9,
   "metadata": {},
   "outputs": [
    {
     "name": "stdout",
     "output_type": "stream",
     "text": [
      "[10, 30, 15, 20, 25]\n"
     ]
    }
   ],
   "source": [
    "levels = permutations(levelOfImportance)\n",
    "print(list(next(levels)))"
   ]
  },
  {
   "cell_type": "markdown",
   "metadata": {},
   "source": [
    "## 120 EXECUTIONS"
   ]
  },
  {
   "cell_type": "code",
   "execution_count": 10,
   "metadata": {},
   "outputs": [],
   "source": [
    "levels = permutations(levelOfImportance)\n",
    "design1 = []\n",
    "design2 = []\n",
    "design3 = []\n",
    "weights = []\n",
    "for level in levels:\n",
    "    ## DECALRING VALUES\n",
    "    criteria = ['Economic (Cost)','Environmental (Size of the Model)','Safety (People)','Risk (Minutes)','Sustainability (Minutes)']\n",
    "    level = list(level)\n",
    "    weight = [l/100 for l in level]\n",
    "    yoloV5 = [37600,14758494,20,30,350]\n",
    "    ssd = [40600,12115968,22,7.5,601]\n",
    "    fasterRCNN = [32600,10818660,17,10,833]\n",
    "    goal = ['MIN','MIN','MAX','MIN','MAX']\n",
    "\n",
    "    ## CREATING DATAFRAME\n",
    "    data = pd.DataFrame({'levelOfImportance':level,\n",
    "                        'weight':weight,\n",
    "                        'yoloV5':yoloV5,\n",
    "                        'ssd':ssd,\n",
    "                        'fasterRCNN':fasterRCNN\n",
    "                        },\n",
    "                        index = criteria)\n",
    "    data.index.name='criteria'\n",
    "    data = data.map(lambda x: float(x))\n",
    "    data['goal'] = goal\n",
    "\n",
    "    ## NORMALIZING DATA\n",
    "    for i in range(data.shape[0]):\n",
    "        data.iloc[i,2:] = normalize(data.iloc[i,2:])\n",
    "\n",
    "    ## GETTING WEIGHTED SUM\n",
    "    for i in range(data.shape[0]):\n",
    "        data.iloc[i,1:-1] = getWeightedSum(data.iloc[i,1:-1])\n",
    "\n",
    "    ## GETTING totals\n",
    "    total=[]\n",
    "    for i in range(5):\n",
    "        total.append(getTotal(data.iloc[:,i]))\n",
    "    total.append(None)\n",
    "    data.loc[len(data)] = total\n",
    "    index = [idx for idx in data.index][:-1]\n",
    "    index.append('total')\n",
    "    data = data.set_index([index])\n",
    "    weights.append([level,data.iloc[:-1,1].values])\n",
    "    design1.append(data.iloc[-1,2])\n",
    "    design2.append(data.iloc[-1,3])\n",
    "    design3.append(data.iloc[-1,4])\n",
    "\n"
   ]
  },
  {
   "cell_type": "code",
   "execution_count": 11,
   "metadata": {},
   "outputs": [
    {
     "name": "stdout",
     "output_type": "stream",
     "text": [
      "Permutation 0 : [10, 30, 15, 20, 25]\n",
      "Weights : [0.1  0.3  0.15 0.2  0.25]\n",
      " Design 1 = 2.1475\n",
      " Design 2 = 7.130199028122497\n",
      " Design 3 = 8.45\n",
      "\n",
      "Permutation 1 : [10, 30, 15, 25, 20]\n",
      "Weights : [0.1  0.3  0.15 0.25 0.2 ]\n",
      " Design 1 = 2.1475\n",
      " Design 2 = 7.346348096445479\n",
      " Design 3 = 8.4\n",
      "\n",
      "Permutation 2 : [10, 30, 20, 15, 25]\n",
      "Weights : [0.1  0.3  0.2  0.15 0.25]\n",
      " Design 1 = 2.4175\n",
      " Design 2 = 7.130199028122497\n",
      " Design 3 = 8.05\n",
      "\n",
      "Permutation 3 : [10, 30, 20, 25, 15]\n",
      "Weights : [0.1  0.3  0.2  0.25 0.15]\n",
      " Design 1 = 2.4175\n",
      " Design 2 = 7.562497164768461\n",
      " Design 3 = 7.95\n",
      "\n",
      "Permutation 4 : [10, 30, 25, 15, 20]\n",
      "Weights : [0.1  0.3  0.25 0.15 0.2 ]\n",
      " Design 1 = 2.6875\n",
      " Design 2 = 7.346348096445479\n",
      " Design 3 = 7.6\n",
      "\n",
      "Permutation 5 : [10, 30, 25, 20, 15]\n",
      "Weights : [0.1  0.3  0.25 0.2  0.15]\n",
      " Design 1 = 2.6875\n",
      " Design 2 = 7.562497164768461\n",
      " Design 3 = 7.55\n",
      "\n",
      "Permutation 6 : [10, 15, 30, 20, 25]\n",
      "Weights : [0.1  0.15 0.3  0.2  0.25]\n",
      " Design 1 = 2.9575\n",
      " Design 2 = 7.574726843253796\n",
      " Design 3 = 7.1\n",
      "\n",
      "Permutation 7 : [10, 15, 30, 25, 20]\n",
      "Weights : [0.1  0.15 0.3  0.25 0.2 ]\n",
      " Design 1 = 2.9575\n",
      " Design 2 = 7.790875911576777\n",
      " Design 3 = 7.05\n",
      "\n",
      "Permutation 8 : [10, 15, 20, 30, 25]\n",
      "Weights : [0.1  0.15 0.2  0.3  0.25]\n",
      " Design 1 = 2.4175\n",
      " Design 2 = 7.574726843253796\n",
      " Design 3 = 7.9\n",
      "\n",
      "Permutation 9 : [10, 15, 20, 25, 30]\n",
      "Weights : [0.1  0.15 0.2  0.25 0.3 ]\n",
      " Design 1 = 2.4175\n",
      " Design 2 = 7.358577774930815\n",
      " Design 3 = 7.95\n",
      "\n",
      "Permutation 10 : [10, 15, 25, 30, 20]\n",
      "Weights : [0.1  0.15 0.25 0.3  0.2 ]\n",
      " Design 1 = 2.6875\n",
      " Design 2 = 7.790875911576777\n",
      " Design 3 = 7.449999999999999\n",
      "\n",
      "Permutation 11 : [10, 15, 25, 20, 30]\n",
      "Weights : [0.1  0.15 0.25 0.2  0.3 ]\n",
      " Design 1 = 2.6875\n",
      " Design 2 = 7.358577774930815\n",
      " Design 3 = 7.55\n",
      "\n",
      "Permutation 12 : [10, 20, 30, 15, 25]\n",
      "Weights : [0.1  0.2  0.3  0.15 0.25]\n",
      " Design 1 = 2.9574999999999996\n",
      " Design 2 = 7.426550904876697\n",
      " Design 3 = 7.1499999999999995\n",
      "\n",
      "Permutation 13 : [10, 20, 30, 25, 15]\n",
      "Weights : [0.1  0.2  0.3  0.25 0.15]\n",
      " Design 1 = 2.9574999999999996\n",
      " Design 2 = 7.85884904152266\n",
      " Design 3 = 7.05\n",
      "\n",
      "Permutation 14 : [10, 20, 15, 30, 25]\n",
      "Weights : [0.1  0.2  0.15 0.3  0.25]\n",
      " Design 1 = 2.1475\n",
      " Design 2 = 7.426550904876697\n",
      " Design 3 = 8.35\n",
      "\n",
      "Permutation 15 : [10, 20, 15, 25, 30]\n",
      "Weights : [0.1  0.2  0.15 0.25 0.3 ]\n",
      " Design 1 = 2.1474999999999995\n",
      " Design 2 = 7.210401836553716\n",
      " Design 3 = 8.4\n",
      "\n",
      "Permutation 16 : [10, 20, 25, 30, 15]\n",
      "Weights : [0.1  0.2  0.25 0.3  0.15]\n",
      " Design 1 = 2.6874999999999996\n",
      " Design 2 = 7.85884904152266\n",
      " Design 3 = 7.449999999999999\n",
      "\n",
      "Permutation 17 : [10, 20, 25, 15, 30]\n",
      "Weights : [0.1  0.2  0.25 0.15 0.3 ]\n",
      " Design 1 = 2.6874999999999996\n",
      " Design 2 = 7.210401836553716\n",
      " Design 3 = 7.6\n",
      "\n",
      "Permutation 18 : [10, 25, 30, 15, 20]\n",
      "Weights : [0.1  0.25 0.3  0.15 0.2 ]\n",
      " Design 1 = 2.9575\n",
      " Design 2 = 7.494524034822579\n",
      " Design 3 = 7.1499999999999995\n",
      "\n",
      "Permutation 19 : [10, 25, 30, 20, 15]\n",
      "Weights : [0.1  0.25 0.3  0.2  0.15]\n",
      " Design 1 = 2.9575\n",
      " Design 2 = 7.71067310314556\n",
      " Design 3 = 7.1\n",
      "\n",
      "Permutation 20 : [10, 25, 15, 30, 20]\n",
      "Weights : [0.1  0.25 0.15 0.3  0.2 ]\n",
      " Design 1 = 2.1475\n",
      " Design 2 = 7.494524034822579\n",
      " Design 3 = 8.35\n",
      "\n",
      "Permutation 21 : [10, 25, 15, 20, 30]\n",
      "Weights : [0.1  0.25 0.15 0.2  0.3 ]\n",
      " Design 1 = 2.1475\n",
      " Design 2 = 7.062225898176616\n",
      " Design 3 = 8.45\n",
      "\n",
      "Permutation 22 : [10, 25, 20, 30, 15]\n",
      "Weights : [0.1  0.25 0.2  0.3  0.15]\n",
      " Design 1 = 2.4175\n",
      " Design 2 = 7.71067310314556\n",
      " Design 3 = 7.9\n",
      "\n",
      "Permutation 23 : [10, 25, 20, 15, 30]\n",
      "Weights : [0.1  0.25 0.2  0.15 0.3 ]\n",
      " Design 1 = 2.4175\n",
      " Design 2 = 7.062225898176616\n",
      " Design 3 = 8.05\n",
      "\n",
      "Permutation 24 : [30, 10, 15, 20, 25]\n",
      "Weights : [0.3  0.1  0.15 0.2  0.25]\n",
      " Design 1 = 2.8225000000000002\n",
      " Design 2 = 5.922902781630896\n",
      " Design 3 = 8.45\n",
      "\n",
      "Permutation 25 : [30, 10, 15, 25, 20]\n",
      "Weights : [0.3  0.1  0.15 0.25 0.2 ]\n",
      " Design 1 = 2.8225000000000002\n",
      " Design 2 = 6.139051849953876\n",
      " Design 3 = 8.4\n",
      "\n",
      "Permutation 26 : [30, 10, 20, 15, 25]\n",
      "Weights : [0.3  0.1  0.2  0.15 0.25]\n",
      " Design 1 = 3.0925\n",
      " Design 2 = 5.922902781630896\n",
      " Design 3 = 8.05\n",
      "\n",
      "Permutation 27 : [30, 10, 20, 25, 15]\n",
      "Weights : [0.3  0.1  0.2  0.25 0.15]\n",
      " Design 1 = 3.0925\n",
      " Design 2 = 6.355200918276858\n",
      " Design 3 = 7.95\n",
      "\n",
      "Permutation 28 : [30, 10, 25, 15, 20]\n",
      "Weights : [0.3  0.1  0.25 0.15 0.2 ]\n",
      " Design 1 = 3.3625000000000003\n",
      " Design 2 = 6.139051849953876\n",
      " Design 3 = 7.6\n",
      "\n",
      "Permutation 29 : [30, 10, 25, 20, 15]\n",
      "Weights : [0.3  0.1  0.25 0.2  0.15]\n",
      " Design 1 = 3.3625000000000003\n",
      " Design 2 = 6.355200918276858\n",
      " Design 3 = 7.55\n",
      "\n",
      "Permutation 30 : [30, 15, 10, 20, 25]\n",
      "Weights : [0.3  0.15 0.1  0.2  0.25]\n",
      " Design 1 = 2.5525\n",
      " Design 2 = 5.774726843253795\n",
      " Design 3 = 8.899999999999999\n",
      "\n",
      "Permutation 31 : [30, 15, 10, 25, 20]\n",
      "Weights : [0.3  0.15 0.1  0.25 0.2 ]\n",
      " Design 1 = 2.5525\n",
      " Design 2 = 5.990875911576777\n",
      " Design 3 = 8.85\n",
      "\n",
      "Permutation 32 : [30, 15, 20, 10, 25]\n",
      "Weights : [0.3  0.15 0.2  0.1  0.25]\n",
      " Design 1 = 3.0925\n",
      " Design 2 = 5.774726843253795\n",
      " Design 3 = 8.100000000000001\n",
      "\n",
      "Permutation 33 : [30, 15, 20, 25, 10]\n",
      "Weights : [0.3  0.15 0.2  0.25 0.1 ]\n",
      " Design 1 = 3.0925\n",
      " Design 2 = 6.42317404822274\n",
      " Design 3 = 7.95\n",
      "\n",
      "Permutation 34 : [30, 15, 25, 10, 20]\n",
      "Weights : [0.3  0.15 0.25 0.1  0.2 ]\n",
      " Design 1 = 3.3625000000000003\n",
      " Design 2 = 5.990875911576777\n",
      " Design 3 = 7.65\n",
      "\n",
      "Permutation 35 : [30, 15, 25, 20, 10]\n",
      "Weights : [0.3  0.15 0.25 0.2  0.1 ]\n",
      " Design 1 = 3.3625000000000003\n",
      " Design 2 = 6.42317404822274\n",
      " Design 3 = 7.55\n",
      "\n",
      "Permutation 36 : [30, 20, 10, 15, 25]\n",
      "Weights : [0.3  0.2  0.1  0.15 0.25]\n",
      " Design 1 = 2.5524999999999998\n",
      " Design 2 = 5.626550904876696\n",
      " Design 3 = 8.95\n",
      "\n",
      "Permutation 37 : [30, 20, 10, 25, 15]\n",
      "Weights : [0.3  0.2  0.1  0.25 0.15]\n",
      " Design 1 = 2.5524999999999998\n",
      " Design 2 = 6.0588490415226595\n",
      " Design 3 = 8.85\n",
      "\n",
      "Permutation 38 : [30, 20, 15, 10, 25]\n",
      "Weights : [0.3  0.2  0.15 0.1  0.25]\n",
      " Design 1 = 2.8225\n",
      " Design 2 = 5.626550904876696\n",
      " Design 3 = 8.55\n",
      "\n",
      "Permutation 39 : [30, 20, 15, 25, 10]\n",
      "Weights : [0.3  0.2  0.15 0.25 0.1 ]\n",
      " Design 1 = 2.8225\n",
      " Design 2 = 6.274998109845641\n",
      " Design 3 = 8.4\n",
      "\n",
      "Permutation 40 : [30, 20, 25, 10, 15]\n",
      "Weights : [0.3  0.2  0.25 0.1  0.15]\n",
      " Design 1 = 3.3625\n",
      " Design 2 = 6.0588490415226595\n",
      " Design 3 = 7.65\n",
      "\n",
      "Permutation 41 : [30, 20, 25, 15, 10]\n",
      "Weights : [0.3  0.2  0.25 0.15 0.1 ]\n",
      " Design 1 = 3.3625\n",
      " Design 2 = 6.274998109845641\n",
      " Design 3 = 7.6\n",
      "\n",
      "Permutation 42 : [30, 25, 10, 15, 20]\n",
      "Weights : [0.3  0.25 0.1  0.15 0.2 ]\n",
      " Design 1 = 2.5525\n",
      " Design 2 = 5.694524034822579\n",
      " Design 3 = 8.95\n",
      "\n",
      "Permutation 43 : [30, 25, 10, 20, 15]\n",
      "Weights : [0.3  0.25 0.1  0.2  0.15]\n",
      " Design 1 = 2.5525\n",
      " Design 2 = 5.910673103145561\n",
      " Design 3 = 8.899999999999999\n",
      "\n",
      "Permutation 44 : [30, 25, 15, 10, 20]\n",
      "Weights : [0.3  0.25 0.15 0.1  0.2 ]\n",
      " Design 1 = 2.8225000000000002\n",
      " Design 2 = 5.694524034822579\n",
      " Design 3 = 8.55\n",
      "\n",
      "Permutation 45 : [30, 25, 15, 20, 10]\n",
      "Weights : [0.3  0.25 0.15 0.2  0.1 ]\n",
      " Design 1 = 2.8225000000000002\n",
      " Design 2 = 6.126822171468542\n",
      " Design 3 = 8.45\n",
      "\n",
      "Permutation 46 : [30, 25, 20, 10, 15]\n",
      "Weights : [0.3  0.25 0.2  0.1  0.15]\n",
      " Design 1 = 3.0925000000000002\n",
      " Design 2 = 5.910673103145561\n",
      " Design 3 = 8.100000000000001\n",
      "\n",
      "Permutation 47 : [30, 25, 20, 15, 10]\n",
      "Weights : [0.3  0.25 0.2  0.15 0.1 ]\n",
      " Design 1 = 3.0925000000000002\n",
      " Design 2 = 6.126822171468542\n",
      " Design 3 = 8.05\n",
      "\n",
      "Permutation 48 : [15, 10, 30, 20, 25]\n",
      "Weights : [0.15 0.1  0.3  0.2  0.25]\n",
      " Design 1 = 3.1262499999999998\n",
      " Design 2 = 7.272902781630895\n",
      " Design 3 = 7.1\n",
      "\n",
      "Permutation 49 : [15, 10, 30, 25, 20]\n",
      "Weights : [0.15 0.1  0.3  0.25 0.2 ]\n",
      " Design 1 = 3.1262499999999998\n",
      " Design 2 = 7.489051849953876\n",
      " Design 3 = 7.05\n",
      "\n",
      "Permutation 50 : [15, 10, 20, 30, 25]\n",
      "Weights : [0.15 0.1  0.2  0.3  0.25]\n",
      " Design 1 = 2.5862499999999997\n",
      " Design 2 = 7.272902781630895\n",
      " Design 3 = 7.9\n",
      "\n",
      "Permutation 51 : [15, 10, 20, 25, 30]\n",
      "Weights : [0.15 0.1  0.2  0.25 0.3 ]\n",
      " Design 1 = 2.5862499999999997\n",
      " Design 2 = 7.056753713307914\n",
      " Design 3 = 7.95\n",
      "\n",
      "Permutation 52 : [15, 10, 25, 30, 20]\n",
      "Weights : [0.15 0.1  0.25 0.3  0.2 ]\n",
      " Design 1 = 2.8562499999999997\n",
      " Design 2 = 7.489051849953876\n",
      " Design 3 = 7.449999999999999\n",
      "\n",
      "Permutation 53 : [15, 10, 25, 20, 30]\n",
      "Weights : [0.15 0.1  0.25 0.2  0.3 ]\n",
      " Design 1 = 2.8562499999999997\n",
      " Design 2 = 7.056753713307914\n",
      " Design 3 = 7.55\n",
      "\n",
      "Permutation 54 : [15, 30, 10, 20, 25]\n",
      "Weights : [0.15 0.3  0.1  0.2  0.25]\n",
      " Design 1 = 2.0462499999999997\n",
      " Design 2 = 6.680199028122498\n",
      " Design 3 = 8.899999999999999\n",
      "\n",
      "Permutation 55 : [15, 30, 10, 25, 20]\n",
      "Weights : [0.15 0.3  0.1  0.25 0.2 ]\n",
      " Design 1 = 2.04625\n",
      " Design 2 = 6.89634809644548\n",
      " Design 3 = 8.85\n",
      "\n",
      "Permutation 56 : [15, 30, 20, 10, 25]\n",
      "Weights : [0.15 0.3  0.2  0.1  0.25]\n",
      " Design 1 = 2.58625\n",
      " Design 2 = 6.680199028122498\n",
      " Design 3 = 8.100000000000001\n",
      "\n",
      "Permutation 57 : [15, 30, 20, 25, 10]\n",
      "Weights : [0.15 0.3  0.2  0.25 0.1 ]\n",
      " Design 1 = 2.58625\n",
      " Design 2 = 7.328646233091443\n",
      " Design 3 = 7.95\n",
      "\n",
      "Permutation 58 : [15, 30, 25, 10, 20]\n",
      "Weights : [0.15 0.3  0.25 0.1  0.2 ]\n",
      " Design 1 = 2.85625\n",
      " Design 2 = 6.89634809644548\n",
      " Design 3 = 7.65\n",
      "\n",
      "Permutation 59 : [15, 30, 25, 20, 10]\n",
      "Weights : [0.15 0.3  0.25 0.2  0.1 ]\n",
      " Design 1 = 2.85625\n",
      " Design 2 = 7.328646233091443\n",
      " Design 3 = 7.55\n",
      "\n",
      "Permutation 60 : [15, 20, 10, 30, 25]\n",
      "Weights : [0.15 0.2  0.1  0.3  0.25]\n",
      " Design 1 = 2.0462499999999997\n",
      " Design 2 = 6.976550904876696\n",
      " Design 3 = 8.8\n",
      "\n",
      "Permutation 61 : [15, 20, 10, 25, 30]\n",
      "Weights : [0.15 0.2  0.1  0.25 0.3 ]\n",
      " Design 1 = 2.0462499999999997\n",
      " Design 2 = 6.760401836553715\n",
      " Design 3 = 8.85\n",
      "\n",
      "Permutation 62 : [15, 20, 30, 10, 25]\n",
      "Weights : [0.15 0.2  0.3  0.1  0.25]\n",
      " Design 1 = 3.1262499999999998\n",
      " Design 2 = 6.976550904876696\n",
      " Design 3 = 7.2\n",
      "\n",
      "Permutation 63 : [15, 20, 30, 25, 10]\n",
      "Weights : [0.15 0.2  0.3  0.25 0.1 ]\n",
      " Design 1 = 3.1262499999999998\n",
      " Design 2 = 7.624998109845641\n",
      " Design 3 = 7.05\n",
      "\n",
      "Permutation 64 : [15, 20, 25, 10, 30]\n",
      "Weights : [0.15 0.2  0.25 0.1  0.3 ]\n",
      " Design 1 = 2.8562499999999997\n",
      " Design 2 = 6.760401836553715\n",
      " Design 3 = 7.65\n",
      "\n",
      "Permutation 65 : [15, 20, 25, 30, 10]\n",
      "Weights : [0.15 0.2  0.25 0.3  0.1 ]\n",
      " Design 1 = 2.8562499999999997\n",
      " Design 2 = 7.624998109845641\n",
      " Design 3 = 7.449999999999999\n",
      "\n",
      "Permutation 66 : [15, 25, 10, 30, 20]\n",
      "Weights : [0.15 0.25 0.1  0.3  0.2 ]\n",
      " Design 1 = 2.04625\n",
      " Design 2 = 7.044524034822579\n",
      " Design 3 = 8.799999999999999\n",
      "\n",
      "Permutation 67 : [15, 25, 10, 20, 30]\n",
      "Weights : [0.15 0.25 0.1  0.2  0.3 ]\n",
      " Design 1 = 2.04625\n",
      " Design 2 = 6.612225898176616\n",
      " Design 3 = 8.899999999999999\n",
      "\n",
      "Permutation 68 : [15, 25, 30, 10, 20]\n",
      "Weights : [0.15 0.25 0.3  0.1  0.2 ]\n",
      " Design 1 = 3.12625\n",
      " Design 2 = 7.044524034822579\n",
      " Design 3 = 7.2\n",
      "\n",
      "Permutation 69 : [15, 25, 30, 20, 10]\n",
      "Weights : [0.15 0.25 0.3  0.2  0.1 ]\n",
      " Design 1 = 3.12625\n",
      " Design 2 = 7.476822171468542\n",
      " Design 3 = 7.1\n",
      "\n",
      "Permutation 70 : [15, 25, 20, 10, 30]\n",
      "Weights : [0.15 0.25 0.2  0.1  0.3 ]\n",
      " Design 1 = 2.58625\n",
      " Design 2 = 6.612225898176616\n",
      " Design 3 = 8.100000000000001\n",
      "\n",
      "Permutation 71 : [15, 25, 20, 30, 10]\n",
      "Weights : [0.15 0.25 0.2  0.3  0.1 ]\n",
      " Design 1 = 2.58625\n",
      " Design 2 = 7.476822171468542\n",
      " Design 3 = 7.9\n",
      "\n",
      "Permutation 72 : [20, 10, 30, 15, 25]\n",
      "Weights : [0.2  0.1  0.3  0.15 0.25]\n",
      " Design 1 = 3.2949999999999995\n",
      " Design 2 = 6.822902781630894\n",
      " Design 3 = 7.1499999999999995\n",
      "\n",
      "Permutation 73 : [20, 10, 30, 25, 15]\n",
      "Weights : [0.2  0.1  0.3  0.25 0.15]\n",
      " Design 1 = 3.2949999999999995\n",
      " Design 2 = 7.2552009182768575\n",
      " Design 3 = 7.05\n",
      "\n",
      "Permutation 74 : [20, 10, 15, 30, 25]\n",
      "Weights : [0.2  0.1  0.15 0.3  0.25]\n",
      " Design 1 = 2.485\n",
      " Design 2 = 6.822902781630894\n",
      " Design 3 = 8.35\n",
      "\n",
      "Permutation 75 : [20, 10, 15, 25, 30]\n",
      "Weights : [0.2  0.1  0.15 0.25 0.3 ]\n",
      " Design 1 = 2.4849999999999994\n",
      " Design 2 = 6.6067537133079135\n",
      " Design 3 = 8.4\n",
      "\n",
      "Permutation 76 : [20, 10, 25, 30, 15]\n",
      "Weights : [0.2  0.1  0.25 0.3  0.15]\n",
      " Design 1 = 3.0249999999999995\n",
      " Design 2 = 7.2552009182768575\n",
      " Design 3 = 7.449999999999999\n",
      "\n",
      "Permutation 77 : [20, 10, 25, 15, 30]\n",
      "Weights : [0.2  0.1  0.25 0.15 0.3 ]\n",
      " Design 1 = 3.0249999999999995\n",
      " Design 2 = 6.6067537133079135\n",
      " Design 3 = 7.6\n",
      "\n",
      "Permutation 78 : [20, 30, 10, 15, 25]\n",
      "Weights : [0.2  0.3  0.1  0.15 0.25]\n",
      " Design 1 = 2.215\n",
      " Design 2 = 6.230199028122499\n",
      " Design 3 = 8.95\n",
      "\n",
      "Permutation 79 : [20, 30, 10, 25, 15]\n",
      "Weights : [0.2  0.3  0.1  0.25 0.15]\n",
      " Design 1 = 2.215\n",
      " Design 2 = 6.662497164768461\n",
      " Design 3 = 8.85\n",
      "\n",
      "Permutation 80 : [20, 30, 15, 10, 25]\n",
      "Weights : [0.2  0.3  0.15 0.1  0.25]\n",
      " Design 1 = 2.485\n",
      " Design 2 = 6.230199028122499\n",
      " Design 3 = 8.55\n",
      "\n",
      "Permutation 81 : [20, 30, 15, 25, 10]\n",
      "Weights : [0.2  0.3  0.15 0.25 0.1 ]\n",
      " Design 1 = 2.485\n",
      " Design 2 = 6.878646233091443\n",
      " Design 3 = 8.4\n",
      "\n",
      "Permutation 82 : [20, 30, 25, 10, 15]\n",
      "Weights : [0.2  0.3  0.25 0.1  0.15]\n",
      " Design 1 = 3.025\n",
      " Design 2 = 6.662497164768461\n",
      " Design 3 = 7.65\n",
      "\n",
      "Permutation 83 : [20, 30, 25, 15, 10]\n",
      "Weights : [0.2  0.3  0.25 0.15 0.1 ]\n",
      " Design 1 = 3.025\n",
      " Design 2 = 6.878646233091443\n",
      " Design 3 = 7.6\n",
      "\n",
      "Permutation 84 : [20, 15, 10, 30, 25]\n",
      "Weights : [0.2  0.15 0.1  0.3  0.25]\n",
      " Design 1 = 2.215\n",
      " Design 2 = 6.674726843253795\n",
      " Design 3 = 8.8\n",
      "\n",
      "Permutation 85 : [20, 15, 10, 25, 30]\n",
      "Weights : [0.2  0.15 0.1  0.25 0.3 ]\n",
      " Design 1 = 2.215\n",
      " Design 2 = 6.458577774930815\n",
      " Design 3 = 8.85\n",
      "\n",
      "Permutation 86 : [20, 15, 30, 10, 25]\n",
      "Weights : [0.2  0.15 0.3  0.1  0.25]\n",
      " Design 1 = 3.2949999999999995\n",
      " Design 2 = 6.674726843253795\n",
      " Design 3 = 7.2\n",
      "\n",
      "Permutation 87 : [20, 15, 30, 25, 10]\n",
      "Weights : [0.2  0.15 0.3  0.25 0.1 ]\n",
      " Design 1 = 3.2949999999999995\n",
      " Design 2 = 7.32317404822274\n",
      " Design 3 = 7.05\n",
      "\n",
      "Permutation 88 : [20, 15, 25, 10, 30]\n",
      "Weights : [0.2  0.15 0.25 0.1  0.3 ]\n",
      " Design 1 = 3.025\n",
      " Design 2 = 6.458577774930815\n",
      " Design 3 = 7.65\n",
      "\n",
      "Permutation 89 : [20, 15, 25, 30, 10]\n",
      "Weights : [0.2  0.15 0.25 0.3  0.1 ]\n",
      " Design 1 = 3.025\n",
      " Design 2 = 7.32317404822274\n",
      " Design 3 = 7.449999999999999\n",
      "\n",
      "Permutation 90 : [20, 25, 10, 30, 15]\n",
      "Weights : [0.2  0.25 0.1  0.3  0.15]\n",
      " Design 1 = 2.215\n",
      " Design 2 = 6.81067310314556\n",
      " Design 3 = 8.799999999999999\n",
      "\n",
      "Permutation 91 : [20, 25, 10, 15, 30]\n",
      "Weights : [0.2  0.25 0.1  0.15 0.3 ]\n",
      " Design 1 = 2.215\n",
      " Design 2 = 6.162225898176616\n",
      " Design 3 = 8.95\n",
      "\n",
      "Permutation 92 : [20, 25, 30, 10, 15]\n",
      "Weights : [0.2  0.25 0.3  0.1  0.15]\n",
      " Design 1 = 3.295\n",
      " Design 2 = 6.81067310314556\n",
      " Design 3 = 7.2\n",
      "\n",
      "Permutation 93 : [20, 25, 30, 15, 10]\n",
      "Weights : [0.2  0.25 0.3  0.15 0.1 ]\n",
      " Design 1 = 3.295\n",
      " Design 2 = 7.026822171468542\n",
      " Design 3 = 7.1499999999999995\n",
      "\n",
      "Permutation 94 : [20, 25, 15, 10, 30]\n",
      "Weights : [0.2  0.25 0.15 0.1  0.3 ]\n",
      " Design 1 = 2.485\n",
      " Design 2 = 6.162225898176616\n",
      " Design 3 = 8.55\n",
      "\n",
      "Permutation 95 : [20, 25, 15, 30, 10]\n",
      "Weights : [0.2  0.25 0.15 0.3  0.1 ]\n",
      " Design 1 = 2.485\n",
      " Design 2 = 7.026822171468542\n",
      " Design 3 = 8.35\n",
      "\n",
      "Permutation 96 : [25, 10, 30, 15, 20]\n",
      "Weights : [0.25 0.1  0.3  0.15 0.2 ]\n",
      " Design 1 = 3.4637499999999997\n",
      " Design 2 = 6.589051849953877\n",
      " Design 3 = 7.1499999999999995\n",
      "\n",
      "Permutation 97 : [25, 10, 30, 20, 15]\n",
      "Weights : [0.25 0.1  0.3  0.2  0.15]\n",
      " Design 1 = 3.4637499999999997\n",
      " Design 2 = 6.805200918276858\n",
      " Design 3 = 7.1\n",
      "\n",
      "Permutation 98 : [25, 10, 15, 30, 20]\n",
      "Weights : [0.25 0.1  0.15 0.3  0.2 ]\n",
      " Design 1 = 2.65375\n",
      " Design 2 = 6.589051849953877\n",
      " Design 3 = 8.35\n",
      "\n",
      "Permutation 99 : [25, 10, 15, 20, 30]\n",
      "Weights : [0.25 0.1  0.15 0.2  0.3 ]\n",
      " Design 1 = 2.65375\n",
      " Design 2 = 6.156753713307914\n",
      " Design 3 = 8.45\n",
      "\n",
      "Permutation 100 : [25, 10, 20, 30, 15]\n",
      "Weights : [0.25 0.1  0.2  0.3  0.15]\n",
      " Design 1 = 2.9237499999999996\n",
      " Design 2 = 6.805200918276858\n",
      " Design 3 = 7.9\n",
      "\n",
      "Permutation 101 : [25, 10, 20, 15, 30]\n",
      "Weights : [0.25 0.1  0.2  0.15 0.3 ]\n",
      " Design 1 = 2.9237499999999996\n",
      " Design 2 = 6.156753713307914\n",
      " Design 3 = 8.05\n",
      "\n",
      "Permutation 102 : [25, 30, 10, 15, 20]\n",
      "Weights : [0.25 0.3  0.1  0.15 0.2 ]\n",
      " Design 1 = 2.38375\n",
      " Design 2 = 5.996348096445479\n",
      " Design 3 = 8.95\n",
      "\n",
      "Permutation 103 : [25, 30, 10, 20, 15]\n",
      "Weights : [0.25 0.3  0.1  0.2  0.15]\n",
      " Design 1 = 2.38375\n",
      " Design 2 = 6.212497164768461\n",
      " Design 3 = 8.899999999999999\n",
      "\n",
      "Permutation 104 : [25, 30, 15, 10, 20]\n",
      "Weights : [0.25 0.3  0.15 0.1  0.2 ]\n",
      " Design 1 = 2.65375\n",
      " Design 2 = 5.996348096445479\n",
      " Design 3 = 8.55\n",
      "\n",
      "Permutation 105 : [25, 30, 15, 20, 10]\n",
      "Weights : [0.25 0.3  0.15 0.2  0.1 ]\n",
      " Design 1 = 2.65375\n",
      " Design 2 = 6.428646233091443\n",
      " Design 3 = 8.45\n",
      "\n",
      "Permutation 106 : [25, 30, 20, 10, 15]\n",
      "Weights : [0.25 0.3  0.2  0.1  0.15]\n",
      " Design 1 = 2.92375\n",
      " Design 2 = 6.212497164768461\n",
      " Design 3 = 8.100000000000001\n",
      "\n",
      "Permutation 107 : [25, 30, 20, 15, 10]\n",
      "Weights : [0.25 0.3  0.2  0.15 0.1 ]\n",
      " Design 1 = 2.92375\n",
      " Design 2 = 6.428646233091443\n",
      " Design 3 = 8.05\n",
      "\n",
      "Permutation 108 : [25, 15, 10, 30, 20]\n",
      "Weights : [0.25 0.15 0.1  0.3  0.2 ]\n",
      " Design 1 = 2.38375\n",
      " Design 2 = 6.440875911576777\n",
      " Design 3 = 8.799999999999999\n",
      "\n",
      "Permutation 109 : [25, 15, 10, 20, 30]\n",
      "Weights : [0.25 0.15 0.1  0.2  0.3 ]\n",
      " Design 1 = 2.38375\n",
      " Design 2 = 6.0085777749308145\n",
      " Design 3 = 8.899999999999999\n",
      "\n",
      "Permutation 110 : [25, 15, 30, 10, 20]\n",
      "Weights : [0.25 0.15 0.3  0.1  0.2 ]\n",
      " Design 1 = 3.4637499999999997\n",
      " Design 2 = 6.440875911576777\n",
      " Design 3 = 7.2\n",
      "\n",
      "Permutation 111 : [25, 15, 30, 20, 10]\n",
      "Weights : [0.25 0.15 0.3  0.2  0.1 ]\n",
      " Design 1 = 3.4637499999999997\n",
      " Design 2 = 6.87317404822274\n",
      " Design 3 = 7.1\n",
      "\n",
      "Permutation 112 : [25, 15, 20, 10, 30]\n",
      "Weights : [0.25 0.15 0.2  0.1  0.3 ]\n",
      " Design 1 = 2.9237499999999996\n",
      " Design 2 = 6.0085777749308145\n",
      " Design 3 = 8.100000000000001\n",
      "\n",
      "Permutation 113 : [25, 15, 20, 30, 10]\n",
      "Weights : [0.25 0.15 0.2  0.3  0.1 ]\n",
      " Design 1 = 2.9237499999999996\n",
      " Design 2 = 6.87317404822274\n",
      " Design 3 = 7.9\n",
      "\n",
      "Permutation 114 : [25, 20, 10, 30, 15]\n",
      "Weights : [0.25 0.2  0.1  0.3  0.15]\n",
      " Design 1 = 2.3837499999999996\n",
      " Design 2 = 6.50884904152266\n",
      " Design 3 = 8.799999999999999\n",
      "\n",
      "Permutation 115 : [25, 20, 10, 15, 30]\n",
      "Weights : [0.25 0.2  0.1  0.15 0.3 ]\n",
      " Design 1 = 2.3837499999999996\n",
      " Design 2 = 5.860401836553716\n",
      " Design 3 = 8.95\n",
      "\n",
      "Permutation 116 : [25, 20, 30, 10, 15]\n",
      "Weights : [0.25 0.2  0.3  0.1  0.15]\n",
      " Design 1 = 3.4637499999999997\n",
      " Design 2 = 6.50884904152266\n",
      " Design 3 = 7.2\n",
      "\n",
      "Permutation 117 : [25, 20, 30, 15, 10]\n",
      "Weights : [0.25 0.2  0.3  0.15 0.1 ]\n",
      " Design 1 = 3.4637499999999997\n",
      " Design 2 = 6.724998109845641\n",
      " Design 3 = 7.1499999999999995\n",
      "\n",
      "Permutation 118 : [25, 20, 15, 10, 30]\n",
      "Weights : [0.25 0.2  0.15 0.1  0.3 ]\n",
      " Design 1 = 2.6537499999999996\n",
      " Design 2 = 5.860401836553716\n",
      " Design 3 = 8.55\n",
      "\n",
      "Permutation 119 : [25, 20, 15, 30, 10]\n",
      "Weights : [0.25 0.2  0.15 0.3  0.1 ]\n",
      " Design 1 = 2.6537499999999996\n",
      " Design 2 = 6.724998109845641\n",
      " Design 3 = 8.35\n",
      "\n"
     ]
    }
   ],
   "source": [
    "## PRINTING RESULTS OF ANALYSIS\n",
    "for n,weight in enumerate(weights):\n",
    "    print(\"Permutation\",n,':',weight[0])\n",
    "    print(\"Weights\",':',weight[1])\n",
    "    print(\" Design 1 =\",design1[n])\n",
    "    print(\" Design 2 =\",design2[n])\n",
    "    print(\" Design 3 =\",design3[n])\n",
    "    print('')"
   ]
  },
  {
   "cell_type": "code",
   "execution_count": 12,
   "metadata": {},
   "outputs": [
    {
     "data": {
      "text/plain": [
       "Text(0.5, 1.0, 'Summary of Sensitivity Analysis')"
      ]
     },
     "execution_count": 12,
     "metadata": {},
     "output_type": "execute_result"
    },
    {
     "data": {
      "image/png": "[encoded data removed]",
      "text/plain": [
       "<Figure size 1000x500 with 1 Axes>"
      ]
     },
     "metadata": {},
     "output_type": "display_data"
    }
   ],
   "source": [
    "## PLOTTING RESULTS OF ANALYSIS\n",
    "x=range(len(weights))\n",
    "f, ax = plt.subplots(1,1, figsize=(10,5))\n",
    "sns.lineplot(x=x, y=design1, ax = ax, label = 'YOLOV5')\n",
    "sns.lineplot(x=x, y=design2, ax = ax, label = 'SSD')\n",
    "sns.lineplot(x=x, y=design3, ax = ax, label = 'FastRCNN')\n",
    "ax.set_ylabel('sensitivity level')\n",
    "ax.set_xlabel('permutation step')\n",
    "ax.set_title('Summary of Sensitivity Analysis')"
   ]
  },
  {
   "cell_type": "code",
   "execution_count": 14,
   "metadata": {},
   "outputs": [
    {
     "data": {
      "application/vnd.plotly.v1+json": {
       "config": {
        "plotlyServerURL": "https://plot.ly"
       },
       "data": [
        {
         "name": "Design 1",
         "r": [
          2.1475,
          2.1475,
          2.4175,
          2.4175,
          2.6875,
          2.6875,
          2.9575,
          2.9575,
          2.4175,
          2.4175,
          2.6875,
          2.6875,
          2.9574999999999996,
          2.9574999999999996,
          2.1475,
          2.1474999999999995,
          2.6874999999999996,
          2.6874999999999996,
          2.9575,
          2.9575,
          2.1475,
          2.1475,
          2.4175,
          2.4175,
          2.8225000000000002,
          2.8225000000000002,
          3.0925,
          3.0925,
          3.3625000000000003,
          3.3625000000000003,
          2.5525,
          2.5525,
          3.0925,
          3.0925,
          3.3625000000000003,
          3.3625000000000003,
          2.5524999999999998,
          2.5524999999999998,
          2.8225,
          2.8225,
          3.3625,
          3.3625,
          2.5525,
          2.5525,
          2.8225000000000002,
          2.8225000000000002,
          3.0925000000000002,
          3.0925000000000002,
          3.1262499999999998,
          3.1262499999999998,
          2.5862499999999997,
          2.5862499999999997,
          2.8562499999999997,
          2.8562499999999997,
          2.0462499999999997,
          2.04625,
          2.58625,
          2.58625,
          2.85625,
          2.85625,
          2.0462499999999997,
          2.0462499999999997,
          3.1262499999999998,
          3.1262499999999998,
          2.8562499999999997,
          2.8562499999999997,
          2.04625,
          2.04625,
          3.12625,
          3.12625,
          2.58625,
          2.58625,
          3.2949999999999995,
          3.2949999999999995,
          2.485,
          2.4849999999999994,
          3.0249999999999995,
          3.0249999999999995,
          2.215,
          2.215,
          2.485,
          2.485,
          3.025,
          3.025,
          2.215,
          2.215,
          3.2949999999999995,
          3.2949999999999995,
          3.025,
          3.025,
          2.215,
          2.215,
          3.295,
          3.295,
          2.485,
          2.485,
          3.4637499999999997,
          3.4637499999999997,
          2.65375,
          2.65375,
          2.9237499999999996,
          2.9237499999999996,
          2.38375,
          2.38375,
          2.65375,
          2.65375,
          2.92375,
          2.92375,
          2.38375,
          2.38375,
          3.4637499999999997,
          3.4637499999999997,
          2.9237499999999996,
          2.9237499999999996,
          2.3837499999999996,
          2.3837499999999996,
          3.4637499999999997,
          3.4637499999999997,
          2.6537499999999996,
          2.6537499999999996
         ],
         "theta": [
          "0",
          "1",
          "2",
          "3",
          "4",
          "5",
          "6",
          "7",
          "8",
          "9",
          "10",
          "11",
          "12",
          "13",
          "14",
          "15",
          "16",
          "17",
          "18",
          "19",
          "20",
          "21",
          "22",
          "23",
          "24",
          "25",
          "26",
          "27",
          "28",
          "29",
          "30",
          "31",
          "32",
          "33",
          "34",
          "35",
          "36",
          "37",
          "38",
          "39",
          "40",
          "41",
          "42",
          "43",
          "44",
          "45",
          "46",
          "47",
          "48",
          "49",
          "50",
          "51",
          "52",
          "53",
          "54",
          "55",
          "56",
          "57",
          "58",
          "59",
          "60",
          "61",
          "62",
          "63",
          "64",
          "65",
          "66",
          "67",
          "68",
          "69",
          "70",
          "71",
          "72",
          "73",
          "74",
          "75",
          "76",
          "77",
          "78",
          "79",
          "80",
          "81",
          "82",
          "83",
          "84",
          "85",
          "86",
          "87",
          "88",
          "89",
          "90",
          "91",
          "92",
          "93",
          "94",
          "95",
          "96",
          "97",
          "98",
          "99",
          "100",
          "101",
          "102",
          "103",
          "104",
          "105",
          "106",
          "107",
          "108",
          "109",
          "110",
          "111",
          "112",
          "113",
          "114",
          "115",
          "116",
          "117",
          "118",
          "119"
         ],
         "type": "scatterpolar"
        },
        {
         "name": "Design 2",
         "r": [
          7.130199028122497,
          7.346348096445479,
          7.130199028122497,
          7.562497164768461,
          7.346348096445479,
          7.562497164768461,
          7.574726843253796,
          7.790875911576777,
          7.574726843253796,
          7.358577774930815,
          7.790875911576777,
          7.358577774930815,
          7.426550904876697,
          7.85884904152266,
          7.426550904876697,
          7.210401836553716,
          7.85884904152266,
          7.210401836553716,
          7.494524034822579,
          7.71067310314556,
          7.494524034822579,
          7.062225898176616,
          7.71067310314556,
          7.062225898176616,
          5.922902781630896,
          6.139051849953876,
          5.922902781630896,
          6.355200918276858,
          6.139051849953876,
          6.355200918276858,
          5.774726843253795,
          5.990875911576777,
          5.774726843253795,
          6.42317404822274,
          5.990875911576777,
          6.42317404822274,
          5.626550904876696,
          6.0588490415226595,
          5.626550904876696,
          6.274998109845641,
          6.0588490415226595,
          6.274998109845641,
          5.694524034822579,
          5.910673103145561,
          5.694524034822579,
          6.126822171468542,
          5.910673103145561,
          6.126822171468542,
          7.272902781630895,
          7.489051849953876,
          7.272902781630895,
          7.056753713307914,
          7.489051849953876,
          7.056753713307914,
          6.680199028122498,
          6.89634809644548,
          6.680199028122498,
          7.328646233091443,
          6.89634809644548,
          7.328646233091443,
          6.976550904876696,
          6.760401836553715,
          6.976550904876696,
          7.624998109845641,
          6.760401836553715,
          7.624998109845641,
          7.044524034822579,
          6.612225898176616,
          7.044524034822579,
          7.476822171468542,
          6.612225898176616,
          7.476822171468542,
          6.822902781630894,
          7.2552009182768575,
          6.822902781630894,
          6.6067537133079135,
          7.2552009182768575,
          6.6067537133079135,
          6.230199028122499,
          6.662497164768461,
          6.230199028122499,
          6.878646233091443,
          6.662497164768461,
          6.878646233091443,
          6.674726843253795,
          6.458577774930815,
          6.674726843253795,
          7.32317404822274,
          6.458577774930815,
          7.32317404822274,
          6.81067310314556,
          6.162225898176616,
          6.81067310314556,
          7.026822171468542,
          6.162225898176616,
          7.026822171468542,
          6.589051849953877,
          6.805200918276858,
          6.589051849953877,
          6.156753713307914,
          6.805200918276858,
          6.156753713307914,
          5.996348096445479,
          6.212497164768461,
          5.996348096445479,
          6.428646233091443,
          6.212497164768461,
          6.428646233091443,
          6.440875911576777,
          6.0085777749308145,
          6.440875911576777,
          6.87317404822274,
          6.0085777749308145,
          6.87317404822274,
          6.50884904152266,
          5.860401836553716,
          6.50884904152266,
          6.724998109845641,
          5.860401836553716,
          6.724998109845641
         ],
         "theta": [
          "0",
          "1",
          "2",
          "3",
          "4",
          "5",
          "6",
          "7",
          "8",
          "9",
          "10",
          "11",
          "12",
          "13",
          "14",
          "15",
          "16",
          "17",
          "18",
          "19",
          "20",
          "21",
          "22",
          "23",
          "24",
          "25",
          "26",
          "27",
          "28",
          "29",
          "30",
          "31",
          "32",
          "33",
          "34",
          "35",
          "36",
          "37",
          "38",
          "39",
          "40",
          "41",
          "42",
          "43",
          "44",
          "45",
          "46",
          "47",
          "48",
          "49",
          "50",
          "51",
          "52",
          "53",
          "54",
          "55",
          "56",
          "57",
          "58",
          "59",
          "60",
          "61",
          "62",
          "63",
          "64",
          "65",
          "66",
          "67",
          "68",
          "69",
          "70",
          "71",
          "72",
          "73",
          "74",
          "75",
          "76",
          "77",
          "78",
          "79",
          "80",
          "81",
          "82",
          "83",
          "84",
          "85",
          "86",
          "87",
          "88",
          "89",
          "90",
          "91",
          "92",
          "93",
          "94",
          "95",
          "96",
          "97",
          "98",
          "99",
          "100",
          "101",
          "102",
          "103",
          "104",
          "105",
          "106",
          "107",
          "108",
          "109",
          "110",
          "111",
          "112",
          "113",
          "114",
          "115",
          "116",
          "117",
          "118",
          "119"
         ],
         "type": "scatterpolar"
        },
        {
         "name": "Design 3",
         "r": [
          8.45,
          8.4,
          8.05,
          7.95,
          7.6,
          7.55,
          7.1,
          7.05,
          7.9,
          7.95,
          7.449999999999999,
          7.55,
          7.1499999999999995,
          7.05,
          8.35,
          8.4,
          7.449999999999999,
          7.6,
          7.1499999999999995,
          7.1,
          8.35,
          8.45,
          7.9,
          8.05,
          8.45,
          8.4,
          8.05,
          7.95,
          7.6,
          7.55,
          8.899999999999999,
          8.85,
          8.100000000000001,
          7.95,
          7.65,
          7.55,
          8.95,
          8.85,
          8.55,
          8.4,
          7.65,
          7.6,
          8.95,
          8.899999999999999,
          8.55,
          8.45,
          8.100000000000001,
          8.05,
          7.1,
          7.05,
          7.9,
          7.95,
          7.449999999999999,
          7.55,
          8.899999999999999,
          8.85,
          8.100000000000001,
          7.95,
          7.65,
          7.55,
          8.8,
          8.85,
          7.2,
          7.05,
          7.65,
          7.449999999999999,
          8.799999999999999,
          8.899999999999999,
          7.2,
          7.1,
          8.100000000000001,
          7.9,
          7.1499999999999995,
          7.05,
          8.35,
          8.4,
          7.449999999999999,
          7.6,
          8.95,
          8.85,
          8.55,
          8.4,
          7.65,
          7.6,
          8.8,
          8.85,
          7.2,
          7.05,
          7.65,
          7.449999999999999,
          8.799999999999999,
          8.95,
          7.2,
          7.1499999999999995,
          8.55,
          8.35,
          7.1499999999999995,
          7.1,
          8.35,
          8.45,
          7.9,
          8.05,
          8.95,
          8.899999999999999,
          8.55,
          8.45,
          8.100000000000001,
          8.05,
          8.799999999999999,
          8.899999999999999,
          7.2,
          7.1,
          8.100000000000001,
          7.9,
          8.799999999999999,
          8.95,
          7.2,
          7.1499999999999995,
          8.55,
          8.35
         ],
         "theta": [
          "0",
          "1",
          "2",
          "3",
          "4",
          "5",
          "6",
          "7",
          "8",
          "9",
          "10",
          "11",
          "12",
          "13",
          "14",
          "15",
          "16",
          "17",
          "18",
          "19",
          "20",
          "21",
          "22",
          "23",
          "24",
          "25",
          "26",
          "27",
          "28",
          "29",
          "30",
          "31",
          "32",
          "33",
          "34",
          "35",
          "36",
          "37",
          "38",
          "39",
          "40",
          "41",
          "42",
          "43",
          "44",
          "45",
          "46",
          "47",
          "48",
          "49",
          "50",
          "51",
          "52",
          "53",
          "54",
          "55",
          "56",
          "57",
          "58",
          "59",
          "60",
          "61",
          "62",
          "63",
          "64",
          "65",
          "66",
          "67",
          "68",
          "69",
          "70",
          "71",
          "72",
          "73",
          "74",
          "75",
          "76",
          "77",
          "78",
          "79",
          "80",
          "81",
          "82",
          "83",
          "84",
          "85",
          "86",
          "87",
          "88",
          "89",
          "90",
          "91",
          "92",
          "93",
          "94",
          "95",
          "96",
          "97",
          "98",
          "99",
          "100",
          "101",
          "102",
          "103",
          "104",
          "105",
          "106",
          "107",
          "108",
          "109",
          "110",
          "111",
          "112",
          "113",
          "114",
          "115",
          "116",
          "117",
          "118",
          "119"
         ],
         "type": "scatterpolar"
        }
       ],
       "layout": {
        "annotations": [
         {
          "showarrow": false,
          "text": "",
          "x": 0,
          "xref": "paper",
          "y": 0.75,
          "yref": "paper"
         }
        ],
        "autosize": false,
        "height": 700,
        "legend": {
         "font": {
          "size": 12
         },
         "traceorder": "normal",
         "x": 0,
         "y": 0.7
        },
        "margin": {
         "b": 100,
         "l": 50,
         "pad": 4,
         "r": 50,
         "t": 100
        },
        "plot_bgcolor": "rgba(0,0,0,0)",
        "polar": {
         "radialaxis": {
          "range": [
           0,
           10
          ]
         }
        },
        "template": {
         "data": {
          "bar": [
           {
            "error_x": {
             "color": "#2a3f5f"
            },
            "error_y": {
             "color": "#2a3f5f"
            },
            "marker": {
             "line": {
              "color": "#E5ECF6",
              "width": 0.5
             },
             "pattern": {
              "fillmode": "overlay",
              "size": 10,
              "solidity": 0.2
             }
            },
            "type": "bar"
           }
          ],
          "barpolar": [
           {
            "marker": {
             "line": {
              "color": "#E5ECF6",
              "width": 0.5
             },
             "pattern": {
              "fillmode": "overlay",
              "size": 10,
              "solidity": 0.2
             }
            },
            "type": "barpolar"
           }
          ],
          "carpet": [
           {
            "aaxis": {
             "endlinecolor": "#2a3f5f",
             "gridcolor": "white",
             "linecolor": "white",
             "minorgridcolor": "white",
             "startlinecolor": "#2a3f5f"
            },
            "baxis": {
             "endlinecolor": "#2a3f5f",
             "gridcolor": "white",
             "linecolor": "white",
             "minorgridcolor": "white",
             "startlinecolor": "#2a3f5f"
            },
            "type": "carpet"
           }
          ],
          "choropleth": [
           {
            "colorbar": {
             "outlinewidth": 0,
             "ticks": ""
            },
            "type": "choropleth"
           }
          ],
          "contour": [
           {
            "colorbar": {
             "outlinewidth": 0,
             "ticks": ""
            },
            "colorscale": [
             [
              0,
              "#0d0887"
             ],
             [
              0.1111111111111111,
              "#46039f"
             ],
             [
              0.2222222222222222,
              "#7201a8"
             ],
             [
              0.3333333333333333,
              "#9c179e"
             ],
             [
              0.4444444444444444,
              "#bd3786"
             ],
             [
              0.5555555555555556,
              "#d8576b"
             ],
             [
              0.6666666666666666,
              "#ed7953"
             ],
             [
              0.7777777777777778,
              "#fb9f3a"
             ],
             [
              0.8888888888888888,
              "#fdca26"
             ],
             [
              1,
              "#f0f921"
             ]
            ],
            "type": "contour"
           }
          ],
          "contourcarpet": [
           {
            "colorbar": {
             "outlinewidth": 0,
             "ticks": ""
            },
            "type": "contourcarpet"
           }
          ],
          "heatmap": [
           {
            "colorbar": {
             "outlinewidth": 0,
             "ticks": ""
            },
            "colorscale": [
             [
              0,
              "#0d0887"
             ],
             [
              0.1111111111111111,
              "#46039f"
             ],
             [
              0.2222222222222222,
              "#7201a8"
             ],
             [
              0.3333333333333333,
              "#9c179e"
             ],
             [
              0.4444444444444444,
              "#bd3786"
             ],
             [
              0.5555555555555556,
              "#d8576b"
             ],
             [
              0.6666666666666666,
              "#ed7953"
             ],
             [
              0.7777777777777778,
              "#fb9f3a"
             ],
             [
              0.8888888888888888,
              "#fdca26"
             ],
             [
              1,
              "#f0f921"
             ]
            ],
            "type": "heatmap"
           }
          ],
          "heatmapgl": [
           {
            "colorbar": {
             "outlinewidth": 0,
             "ticks": ""
            },
            "colorscale": [
             [
              0,
              "#0d0887"
             ],
             [
              0.1111111111111111,
              "#46039f"
             ],
             [
              0.2222222222222222,
              "#7201a8"
             ],
             [
              0.3333333333333333,
              "#9c179e"
             ],
             [
              0.4444444444444444,
              "#bd3786"
             ],
             [
              0.5555555555555556,
              "#d8576b"
             ],
             [
              0.6666666666666666,
              "#ed7953"
             ],
             [
              0.7777777777777778,
              "#fb9f3a"
             ],
             [
              0.8888888888888888,
              "#fdca26"
             ],
             [
              1,
              "#f0f921"
             ]
            ],
            "type": "heatmapgl"
           }
          ],
          "histogram": [
           {
            "marker": {
             "pattern": {
              "fillmode": "overlay",
              "size": 10,
              "solidity": 0.2
             }
            },
            "type": "histogram"
           }
          ],
          "histogram2d": [
           {
            "colorbar": {
             "outlinewidth": 0,
             "ticks": ""
            },
            "colorscale": [
             [
              0,
              "#0d0887"
             ],
             [
              0.1111111111111111,
              "#46039f"
             ],
             [
              0.2222222222222222,
              "#7201a8"
             ],
             [
              0.3333333333333333,
              "#9c179e"
             ],
             [
              0.4444444444444444,
              "#bd3786"
             ],
             [
              0.5555555555555556,
              "#d8576b"
             ],
             [
              0.6666666666666666,
              "#ed7953"
             ],
             [
              0.7777777777777778,
              "#fb9f3a"
             ],
             [
              0.8888888888888888,
              "#fdca26"
             ],
             [
              1,
              "#f0f921"
             ]
            ],
            "type": "histogram2d"
           }
          ],
          "histogram2dcontour": [
           {
            "colorbar": {
             "outlinewidth": 0,
             "ticks": ""
            },
            "colorscale": [
             [
              0,
              "#0d0887"
             ],
             [
              0.1111111111111111,
              "#46039f"
             ],
             [
              0.2222222222222222,
              "#7201a8"
             ],
             [
              0.3333333333333333,
              "#9c179e"
             ],
             [
              0.4444444444444444,
              "#bd3786"
             ],
             [
              0.5555555555555556,
              "#d8576b"
             ],
             [
              0.6666666666666666,
              "#ed7953"
             ],
             [
              0.7777777777777778,
              "#fb9f3a"
             ],
             [
              0.8888888888888888,
              "#fdca26"
             ],
             [
              1,
              "#f0f921"
             ]
            ],
            "type": "histogram2dcontour"
           }
          ],
          "mesh3d": [
           {
            "colorbar": {
             "outlinewidth": 0,
             "ticks": ""
            },
            "type": "mesh3d"
           }
          ],
          "parcoords": [
           {
            "line": {
             "colorbar": {
              "outlinewidth": 0,
              "ticks": ""
             }
            },
            "type": "parcoords"
           }
          ],
          "pie": [
           {
            "automargin": true,
            "type": "pie"
           }
          ],
          "scatter": [
           {
            "fillpattern": {
             "fillmode": "overlay",
             "size": 10,
             "solidity": 0.2
            },
            "type": "scatter"
           }
          ],
          "scatter3d": [
           {
            "line": {
             "colorbar": {
              "outlinewidth": 0,
              "ticks": ""
             }
            },
            "marker": {
             "colorbar": {
              "outlinewidth": 0,
              "ticks": ""
             }
            },
            "type": "scatter3d"
           }
          ],
          "scattercarpet": [
           {
            "marker": {
             "colorbar": {
              "outlinewidth": 0,
              "ticks": ""
             }
            },
            "type": "scattercarpet"
           }
          ],
          "scattergeo": [
           {
            "marker": {
             "colorbar": {
              "outlinewidth": 0,
              "ticks": ""
             }
            },
            "type": "scattergeo"
           }
          ],
          "scattergl": [
           {
            "marker": {
             "colorbar": {
              "outlinewidth": 0,
              "ticks": ""
             }
            },
            "type": "scattergl"
           }
          ],
          "scattermapbox": [
           {
            "marker": {
             "colorbar": {
              "outlinewidth": 0,
              "ticks": ""
             }
            },
            "type": "scattermapbox"
           }
          ],
          "scatterpolar": [
           {
            "marker": {
             "colorbar": {
              "outlinewidth": 0,
              "ticks": ""
             }
            },
            "type": "scatterpolar"
           }
          ],
          "scatterpolargl": [
           {
            "marker": {
             "colorbar": {
              "outlinewidth": 0,
              "ticks": ""
             }
            },
            "type": "scatterpolargl"
           }
          ],
          "scatterternary": [
           {
            "marker": {
             "colorbar": {
              "outlinewidth": 0,
              "ticks": ""
             }
            },
            "type": "scatterternary"
           }
          ],
          "surface": [
           {
            "colorbar": {
             "outlinewidth": 0,
             "ticks": ""
            },
            "colorscale": [
             [
              0,
              "#0d0887"
             ],
             [
              0.1111111111111111,
              "#46039f"
             ],
             [
              0.2222222222222222,
              "#7201a8"
             ],
             [
              0.3333333333333333,
              "#9c179e"
             ],
             [
              0.4444444444444444,
              "#bd3786"
             ],
             [
              0.5555555555555556,
              "#d8576b"
             ],
             [
              0.6666666666666666,
              "#ed7953"
             ],
             [
              0.7777777777777778,
              "#fb9f3a"
             ],
             [
              0.8888888888888888,
              "#fdca26"
             ],
             [
              1,
              "#f0f921"
             ]
            ],
            "type": "surface"
           }
          ],
          "table": [
           {
            "cells": {
             "fill": {
              "color": "#EBF0F8"
             },
             "line": {
              "color": "white"
             }
            },
            "header": {
             "fill": {
              "color": "#C8D4E3"
             },
             "line": {
              "color": "white"
             }
            },
            "type": "table"
           }
          ]
         },
         "layout": {
          "annotationdefaults": {
           "arrowcolor": "#2a3f5f",
           "arrowhead": 0,
           "arrowwidth": 1
          },
          "autotypenumbers": "strict",
          "coloraxis": {
           "colorbar": {
            "outlinewidth": 0,
            "ticks": ""
           }
          },
          "colorscale": {
           "diverging": [
            [
             0,
             "#8e0152"
            ],
            [
             0.1,
             "#c51b7d"
            ],
            [
             0.2,
             "#de77ae"
            ],
            [
             0.3,
             "#f1b6da"
            ],
            [
             0.4,
             "#fde0ef"
            ],
            [
             0.5,
             "#f7f7f7"
            ],
            [
             0.6,
             "#e6f5d0"
            ],
            [
             0.7,
             "#b8e186"
            ],
            [
             0.8,
             "#7fbc41"
            ],
            [
             0.9,
             "#4d9221"
            ],
            [
             1,
             "#276419"
            ]
           ],
           "sequential": [
            [
             0,
             "#0d0887"
            ],
            [
             0.1111111111111111,
             "#46039f"
            ],
            [
             0.2222222222222222,
             "#7201a8"
            ],
            [
             0.3333333333333333,
             "#9c179e"
            ],
            [
             0.4444444444444444,
             "#bd3786"
            ],
            [
             0.5555555555555556,
             "#d8576b"
            ],
            [
             0.6666666666666666,
             "#ed7953"
            ],
            [
             0.7777777777777778,
             "#fb9f3a"
            ],
            [
             0.8888888888888888,
             "#fdca26"
            ],
            [
             1,
             "#f0f921"
            ]
           ],
           "sequentialminus": [
            [
             0,
             "#0d0887"
            ],
            [
             0.1111111111111111,
             "#46039f"
            ],
            [
             0.2222222222222222,
             "#7201a8"
            ],
            [
             0.3333333333333333,
             "#9c179e"
            ],
            [
             0.4444444444444444,
             "#bd3786"
            ],
            [
             0.5555555555555556,
             "#d8576b"
            ],
            [
             0.6666666666666666,
             "#ed7953"
            ],
            [
             0.7777777777777778,
             "#fb9f3a"
            ],
            [
             0.8888888888888888,
             "#fdca26"
            ],
            [
             1,
             "#f0f921"
            ]
           ]
          },
          "colorway": [
           "#636efa",
           "#EF553B",
           "#00cc96",
           "#ab63fa",
           "#FFA15A",
           "#19d3f3",
           "#FF6692",
           "#B6E880",
           "#FF97FF",
           "#FECB52"
          ],
          "font": {
           "color": "#2a3f5f"
          },
          "geo": {
           "bgcolor": "white",
           "lakecolor": "white",
           "landcolor": "#E5ECF6",
           "showlakes": true,
           "showland": true,
           "subunitcolor": "white"
          },
          "hoverlabel": {
           "align": "left"
          },
          "hovermode": "closest",
          "mapbox": {
           "style": "light"
          },
          "paper_bgcolor": "white",
          "plot_bgcolor": "#E5ECF6",
          "polar": {
           "angularaxis": {
            "gridcolor": "white",
            "linecolor": "white",
            "ticks": ""
           },
           "bgcolor": "#E5ECF6",
           "radialaxis": {
            "gridcolor": "white",
            "linecolor": "white",
            "ticks": ""
           }
          },
          "scene": {
           "xaxis": {
            "backgroundcolor": "#E5ECF6",
            "gridcolor": "white",
            "gridwidth": 2,
            "linecolor": "white",
            "showbackground": true,
            "ticks": "",
            "zerolinecolor": "white"
           },
           "yaxis": {
            "backgroundcolor": "#E5ECF6",
            "gridcolor": "white",
            "gridwidth": 2,
            "linecolor": "white",
            "showbackground": true,
            "ticks": "",
            "zerolinecolor": "white"
           },
           "zaxis": {
            "backgroundcolor": "#E5ECF6",
            "gridcolor": "white",
            "gridwidth": 2,
            "linecolor": "white",
            "showbackground": true,
            "ticks": "",
            "zerolinecolor": "white"
           }
          },
          "shapedefaults": {
           "line": {
            "color": "#2a3f5f"
           }
          },
          "ternary": {
           "aaxis": {
            "gridcolor": "white",
            "linecolor": "white",
            "ticks": ""
           },
           "baxis": {
            "gridcolor": "white",
            "linecolor": "white",
            "ticks": ""
           },
           "bgcolor": "#E5ECF6",
           "caxis": {
            "gridcolor": "white",
            "linecolor": "white",
            "ticks": ""
           }
          },
          "title": {
           "x": 0.05
          },
          "xaxis": {
           "automargin": true,
           "gridcolor": "white",
           "linecolor": "white",
           "ticks": "",
           "title": {
            "standoff": 15
           },
           "zerolinecolor": "white",
           "zerolinewidth": 2
          },
          "yaxis": {
           "automargin": true,
           "gridcolor": "white",
           "linecolor": "white",
           "ticks": "",
           "title": {
            "standoff": 15
           },
           "zerolinecolor": "white",
           "zerolinewidth": 2
          }
         }
        },
        "width": 900
       }
      }
     },
     "metadata": {},
     "output_type": "display_data"
    }
   ],
   "source": [
    "## Creating radar graph\n",
    "\n",
    "iterations = [str(i) for i in range(120)]\n",
    "\n",
    "#design 1\n",
    "data1=go.Scatterpolar(\n",
    "      r=design1,\n",
    "      theta=iterations,\n",
    "      # fill='toself',\n",
    "      name='Design 1',\n",
    ")\n",
    "\n",
    "#design 2\n",
    "data2=go.Scatterpolar(\n",
    "      r=design2,\n",
    "      theta=iterations,\n",
    "      # fill='toself',\n",
    "      name='Design 2'\n",
    ")\n",
    "\n",
    "#design 3\n",
    "data3 = go.Scatterpolar(\n",
    "      r=design3,\n",
    "      theta=iterations,\n",
    "      # fill='toself',\n",
    "      name='Design 3'\n",
    ")\n",
    "\n",
    "datas = [data1,data2,data3]\n",
    "\n",
    "# #customization of chart\n",
    "# fig.update_layout(\n",
    "#   polar=dict(\n",
    "#     radialaxis=dict(\n",
    "#       visible=True,\n",
    "#       range=[1, 10]\n",
    "#     )),\n",
    "#   showlegend=False\n",
    "# )\n",
    "\n",
    "layout = go.Layout(\n",
    "        plot_bgcolor='rgba(0,0,0,0)',\n",
    "        legend=dict(\n",
    "            x=0,\n",
    "            y=0.7,\n",
    "            traceorder='normal',\n",
    "            font=dict(\n",
    "                size=12,),\n",
    "        ),\n",
    "    annotations=[\n",
    "        dict(\n",
    "            x=0,\n",
    "            y=0.75,\n",
    "            xref='paper',\n",
    "            yref='paper',\n",
    "            text='',\n",
    "            showarrow=False\n",
    "        )\n",
    "    ],\n",
    "    autosize=False,\n",
    "    width=900,\n",
    "    height=700,\n",
    "    margin=dict(\n",
    "        l=50,\n",
    "        r=50,\n",
    "        b=100,\n",
    "        t=100,\n",
    "        pad=4\n",
    "    ),\n",
    ")\n",
    "\n",
    "fig = go.Figure(data = datas, layout=layout)\n",
    "\n",
    "fig.update_polars(radialaxis=dict(range=[0, 10]))\n",
    "\n",
    "fig.show()"
   ]
  },
  {
   "cell_type": "code",
   "execution_count": null,
   "metadata": {},
   "outputs": [],
   "source": []
  }
 ],
 "metadata": {
  "kernelspec": {
   "display_name": "tf",
   "language": "python",
   "name": "python3"
  },
  "language_info": {
   "codemirror_mode": {
    "name": "ipython",
    "version": 3
   },
   "file_extension": ".py",
   "mimetype": "text/x-python",
   "name": "python",
   "nbconvert_exporter": "python",
   "pygments_lexer": "ipython3",
   "version": "3.11.4"
  },
  "orig_nbformat": 4
 },
 "nbformat": 4,
 "nbformat_minor": 2
}
