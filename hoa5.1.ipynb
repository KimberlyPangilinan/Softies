{
 "cells": [
  {
   "cell_type": "markdown",
   "metadata": {},
   "source": [
    "# Hands-on Activity 5.1: Design and Tradeoffs Analysis"
   ]
  },
  {
   "cell_type": "code",
   "execution_count": 74,
   "metadata": {},
   "outputs": [],
   "source": [
    "import pandas as pd\n",
    "import seaborn as sns\n",
    "import matplotlib.pyplot as plt\n",
    "import numpy as np"
   ]
  },
  {
   "cell_type": "markdown",
   "metadata": {},
   "source": [
    "## Declaring Global Variables"
   ]
  },
  {
   "cell_type": "code",
   "execution_count": 3,
   "metadata": {},
   "outputs": [],
   "source": [
    "criteria = ['Economic (Cost)','Environmental (Size of the Model)','Safety (People)','Risk (Minutes)','Sustainability (Minutes)']\n",
    "levelOfImportance = [10,30,15,20,25]\n",
    "weight = [level/100 for level in levelOfImportance]\n",
    "yoloV5 = [37600,14758494,20,30,350]\n",
    "ssd = [40600,12115968,22,7.5,601]\n",
    "fasterRCNN = [32600,10818660,17,10,833]\n",
    "goal = ['MIN','MIN','MAX','MIN','MAX']\n"
   ]
  },
  {
   "cell_type": "code",
   "execution_count": 156,
   "metadata": {},
   "outputs": [],
   "source": [
    "data = pd.DataFrame({'levelOfImportance':levelOfImportance,\n",
    "                     'weight':weight,\n",
    "                     'yoloV5':yoloV5,\n",
    "                     'ssd':ssd,\n",
    "                     'fasterRCNN':fasterRCNN\n",
    "                     },\n",
    "                     index = criteria)\n",
    "data.index.name='criteria'\n",
    "data = data.map(lambda x: float(x))\n",
    "data['goal'] = goal"
   ]
  },
  {
   "cell_type": "code",
   "execution_count": 157,
   "metadata": {},
   "outputs": [
    {
     "data": {
      "text/html": [
       "<div>\n",
       "<style scoped>\n",
       "    .dataframe tbody tr th:only-of-type {\n",
       "        vertical-align: middle;\n",
       "    }\n",
       "\n",
       "    .dataframe tbody tr th {\n",
       "        vertical-align: top;\n",
       "    }\n",
       "\n",
       "    .dataframe thead th {\n",
       "        text-align: right;\n",
       "    }\n",
       "</style>\n",
       "<table border=\"1\" class=\"dataframe\">\n",
       "  <thead>\n",
       "    <tr style=\"text-align: right;\">\n",
       "      <th></th>\n",
       "      <th>levelOfImportance</th>\n",
       "      <th>weight</th>\n",
       "      <th>yoloV5</th>\n",
       "      <th>ssd</th>\n",
       "      <th>fasterRCNN</th>\n",
       "      <th>goal</th>\n",
       "    </tr>\n",
       "    <tr>\n",
       "      <th>criteria</th>\n",
       "      <th></th>\n",
       "      <th></th>\n",
       "      <th></th>\n",
       "      <th></th>\n",
       "      <th></th>\n",
       "      <th></th>\n",
       "    </tr>\n",
       "  </thead>\n",
       "  <tbody>\n",
       "    <tr>\n",
       "      <th>Economic (Cost)</th>\n",
       "      <td>10.0</td>\n",
       "      <td>0.10</td>\n",
       "      <td>37600.0</td>\n",
       "      <td>40600.0</td>\n",
       "      <td>32600.0</td>\n",
       "      <td>MIN</td>\n",
       "    </tr>\n",
       "    <tr>\n",
       "      <th>Environmental (Size of the Model)</th>\n",
       "      <td>30.0</td>\n",
       "      <td>0.30</td>\n",
       "      <td>14758494.0</td>\n",
       "      <td>12115968.0</td>\n",
       "      <td>10818660.0</td>\n",
       "      <td>MIN</td>\n",
       "    </tr>\n",
       "    <tr>\n",
       "      <th>Safety (People)</th>\n",
       "      <td>15.0</td>\n",
       "      <td>0.15</td>\n",
       "      <td>20.0</td>\n",
       "      <td>22.0</td>\n",
       "      <td>17.0</td>\n",
       "      <td>MAX</td>\n",
       "    </tr>\n",
       "    <tr>\n",
       "      <th>Risk (Minutes)</th>\n",
       "      <td>20.0</td>\n",
       "      <td>0.20</td>\n",
       "      <td>30.0</td>\n",
       "      <td>7.5</td>\n",
       "      <td>10.0</td>\n",
       "      <td>MIN</td>\n",
       "    </tr>\n",
       "    <tr>\n",
       "      <th>Sustainability (Minutes)</th>\n",
       "      <td>25.0</td>\n",
       "      <td>0.25</td>\n",
       "      <td>350.0</td>\n",
       "      <td>601.0</td>\n",
       "      <td>833.0</td>\n",
       "      <td>MAX</td>\n",
       "    </tr>\n",
       "  </tbody>\n",
       "</table>\n",
       "</div>"
      ],
      "text/plain": [
       "                                   levelOfImportance  weight      yoloV5  \\\n",
       "criteria                                                                   \n",
       "Economic (Cost)                                 10.0    0.10     37600.0   \n",
       "Environmental (Size of the Model)               30.0    0.30  14758494.0   \n",
       "Safety (People)                                 15.0    0.15        20.0   \n",
       "Risk (Minutes)                                  20.0    0.20        30.0   \n",
       "Sustainability (Minutes)                        25.0    0.25       350.0   \n",
       "\n",
       "                                          ssd  fasterRCNN goal  \n",
       "criteria                                                        \n",
       "Economic (Cost)                       40600.0     32600.0  MIN  \n",
       "Environmental (Size of the Model)  12115968.0  10818660.0  MIN  \n",
       "Safety (People)                          22.0        17.0  MAX  \n",
       "Risk (Minutes)                            7.5        10.0  MIN  \n",
       "Sustainability (Minutes)                601.0       833.0  MAX  "
      ]
     },
     "execution_count": 157,
     "metadata": {},
     "output_type": "execute_result"
    }
   ],
   "source": [
    "data"
   ]
  },
  {
   "cell_type": "code",
   "execution_count": 158,
   "metadata": {},
   "outputs": [],
   "source": [
    "## DEFINING HELPER FUNCTIONS FOR NORMALIZATION\n",
    "def minNormalize(values):\n",
    "    values = list(values)\n",
    "    goal = values.pop(-1)\n",
    "    normal = [9*((max(values)-x)/(max(values)-min(values)))+1 for x in values]\n",
    "    normal.append(goal)\n",
    "    return normal\n",
    "\n",
    "def maxNormalize(values):\n",
    "    values = list(values)\n",
    "    goal = values.pop(-1)\n",
    "    normal = [9*((x-min(values))/(max(values)-min(values)))+1 for x in values]\n",
    "    normal.append(goal)\n",
    "    return normal\n",
    "\n",
    "def normalize(values):\n",
    "    if values.iloc[-1] == 'MAX':\n",
    "        normal = maxNormalize(values)\n",
    "    else:\n",
    "        normal = minNormalize(values)\n",
    "    return normal\n",
    "\n",
    "## DEFINING HELPER FUNCTION FOR GETTING WEIGHTED SUM\n",
    "def getWeightedSum(values):\n",
    "    values = list(values)\n",
    "    weight = values.pop(0)\n",
    "    values = [value*weight for value in values]\n",
    "    values.insert(0, weight)\n",
    "    return values\n",
    "\n",
    "def getTotal(values):\n",
    "    return sum(values)"
   ]
  },
  {
   "cell_type": "code",
   "execution_count": 159,
   "metadata": {},
   "outputs": [],
   "source": [
    "## NORMALIZING DATA\n",
    "for i in range(data.shape[0]):\n",
    "    data.iloc[i,2:] = normalize(data.iloc[i,2:])"
   ]
  },
  {
   "cell_type": "code",
   "execution_count": 160,
   "metadata": {},
   "outputs": [
    {
     "data": {
      "text/html": [
       "<div>\n",
       "<style scoped>\n",
       "    .dataframe tbody tr th:only-of-type {\n",
       "        vertical-align: middle;\n",
       "    }\n",
       "\n",
       "    .dataframe tbody tr th {\n",
       "        vertical-align: top;\n",
       "    }\n",
       "\n",
       "    .dataframe thead th {\n",
       "        text-align: right;\n",
       "    }\n",
       "</style>\n",
       "<table border=\"1\" class=\"dataframe\">\n",
       "  <thead>\n",
       "    <tr style=\"text-align: right;\">\n",
       "      <th></th>\n",
       "      <th>levelOfImportance</th>\n",
       "      <th>weight</th>\n",
       "      <th>yoloV5</th>\n",
       "      <th>ssd</th>\n",
       "      <th>fasterRCNN</th>\n",
       "      <th>goal</th>\n",
       "    </tr>\n",
       "    <tr>\n",
       "      <th>criteria</th>\n",
       "      <th></th>\n",
       "      <th></th>\n",
       "      <th></th>\n",
       "      <th></th>\n",
       "      <th></th>\n",
       "      <th></th>\n",
       "    </tr>\n",
       "  </thead>\n",
       "  <tbody>\n",
       "    <tr>\n",
       "      <th>Economic (Cost)</th>\n",
       "      <td>10.0</td>\n",
       "      <td>0.10</td>\n",
       "      <td>-4.625</td>\n",
       "      <td>-8.000000</td>\n",
       "      <td>1.0</td>\n",
       "      <td>MIN</td>\n",
       "    </tr>\n",
       "    <tr>\n",
       "      <th>Environmental (Size of the Model)</th>\n",
       "      <td>30.0</td>\n",
       "      <td>0.30</td>\n",
       "      <td>-8.000</td>\n",
       "      <td>-1.963519</td>\n",
       "      <td>1.0</td>\n",
       "      <td>MIN</td>\n",
       "    </tr>\n",
       "    <tr>\n",
       "      <th>Safety (People)</th>\n",
       "      <td>15.0</td>\n",
       "      <td>0.15</td>\n",
       "      <td>-2.600</td>\n",
       "      <td>1.000000</td>\n",
       "      <td>-8.0</td>\n",
       "      <td>MAX</td>\n",
       "    </tr>\n",
       "    <tr>\n",
       "      <th>Risk (Minutes)</th>\n",
       "      <td>20.0</td>\n",
       "      <td>0.20</td>\n",
       "      <td>-8.000</td>\n",
       "      <td>1.000000</td>\n",
       "      <td>0.0</td>\n",
       "      <td>MIN</td>\n",
       "    </tr>\n",
       "    <tr>\n",
       "      <th>Sustainability (Minutes)</th>\n",
       "      <td>25.0</td>\n",
       "      <td>0.25</td>\n",
       "      <td>-8.000</td>\n",
       "      <td>-3.322981</td>\n",
       "      <td>1.0</td>\n",
       "      <td>MAX</td>\n",
       "    </tr>\n",
       "  </tbody>\n",
       "</table>\n",
       "</div>"
      ],
      "text/plain": [
       "                                   levelOfImportance  weight  yoloV5  \\\n",
       "criteria                                                               \n",
       "Economic (Cost)                                 10.0    0.10  -4.625   \n",
       "Environmental (Size of the Model)               30.0    0.30  -8.000   \n",
       "Safety (People)                                 15.0    0.15  -2.600   \n",
       "Risk (Minutes)                                  20.0    0.20  -8.000   \n",
       "Sustainability (Minutes)                        25.0    0.25  -8.000   \n",
       "\n",
       "                                        ssd  fasterRCNN goal  \n",
       "criteria                                                      \n",
       "Economic (Cost)                   -8.000000         1.0  MIN  \n",
       "Environmental (Size of the Model) -1.963519         1.0  MIN  \n",
       "Safety (People)                    1.000000        -8.0  MAX  \n",
       "Risk (Minutes)                     1.000000         0.0  MIN  \n",
       "Sustainability (Minutes)          -3.322981         1.0  MAX  "
      ]
     },
     "execution_count": 160,
     "metadata": {},
     "output_type": "execute_result"
    }
   ],
   "source": [
    "data"
   ]
  },
  {
   "cell_type": "code",
   "execution_count": 152,
   "metadata": {},
   "outputs": [
    {
     "data": {
      "text/plain": [
       "6.6475"
      ]
     },
     "execution_count": 152,
     "metadata": {},
     "output_type": "execute_result"
    }
   ],
   "source": [
    "getTotal(data.iloc[:,2])"
   ]
  },
  {
   "cell_type": "code",
   "execution_count": 133,
   "metadata": {},
   "outputs": [],
   "source": [
    "## GETTING WEIGHTED SUM\n",
    "for i in range(data.shape[0]):\n",
    "    data.iloc[i,1:-1] = getWeightedSum(data.iloc[i,1:-1])\n"
   ]
  },
  {
   "cell_type": "code",
   "execution_count": 141,
   "metadata": {},
   "outputs": [
    {
     "data": {
      "text/plain": [
       "yoloV5            0.25\n",
       "ssd           1.419255\n",
       "fasterRCNN         2.5\n",
       "Name: Sustainability (Minutes), dtype: object"
      ]
     },
     "execution_count": 141,
     "metadata": {},
     "output_type": "execute_result"
    }
   ],
   "source": [
    "data.iloc[i,2:-1]\n"
   ]
  },
  {
   "cell_type": "code",
   "execution_count": null,
   "metadata": {},
   "outputs": [],
   "source": []
  }
 ],
 "metadata": {
  "kernelspec": {
   "display_name": "tf",
   "language": "python",
   "name": "python3"
  },
  "language_info": {
   "codemirror_mode": {
    "name": "ipython",
    "version": 3
   },
   "file_extension": ".py",
   "mimetype": "text/x-python",
   "name": "python",
   "nbconvert_exporter": "python",
   "pygments_lexer": "ipython3",
   "version": "3.9.13"
  },
  "orig_nbformat": 4
 },
 "nbformat": 4,
 "nbformat_minor": 2
}
